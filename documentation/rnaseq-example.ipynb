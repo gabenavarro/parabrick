{
 "cells": [
  {
   "cell_type": "markdown",
   "id": "2d2dd793",
   "metadata": {},
   "source": [
    "# Parabricks **RNA-FQ2BAM**: GPU-accelerated RNA-seq, from FASTQ to BAM\n",
    "\n",
    "---\n",
    "\n",
    "RNA sequencing (RNA-seq) reshaped transcriptomics by replacing hybridization microarrays with sequencing-based, digital counting of transcripts. Landmark studies in 2008 established the approach in yeast and mammals, demonstrating that short-read sequencing could map and quantify entire transcriptomes with unprecedented dynamic range [1, 2].\n",
    "\n",
    "As throughput climbed, specialized **spliced aligners** emerged. Early tools such as **TopHat** (2009) pioneered junction discovery, then **STAR** (2013) delivered order-of-magnitude speedups while improving alignment sensitivity and supporting chimeric/fusion reads—advances that became the backbone of modern RNA-seq pipelines and remain reflected in community best practices [3–6].\n",
    "\n",
    "Meanwhile, the field’s scale exploded—from single samples to cohorts of thousands—driving adoption of **GPU acceleration** to keep costs and turnaround times manageable. Systematic benchmarks showed >200× runtime reductions and ~5–10× cost savings when genomics workloads move to GPUs, catalyzing production-grade suites such as **NVIDIA Parabricks** [8, 9].\n",
    "\n",
    "## Where **RNA-FQ2BAM** fits\n",
    "\n",
    "**Parabricks RNA-FQ2BAM** is the GPU-accelerated entry point for short-read RNA-seq alignment. It takes paired-end **FASTQ** files and outputs a coordinate-sorted, duplicate-marked **BAM**—ready for variant and fusion analyses—while adhering to widely used CPU workflows. Under the hood it runs the splice-aware **STAR** aligner and mirrors GATK-style data-cleanup steps, enabling “same results, far faster” execution on NVIDIA GPUs [4, 6, 8].\n",
    "\n",
    "**At a glance, RNA-FQ2BAM:**\n",
    "- Aligns reads with **STAR** (splice-aware, chimeric-read friendly).  \n",
    "- Performs **coordinate sorting** and **duplicate marking**.  \n",
    "- Produces a standards-compliant **BAM** file (SAM/BAM spec by Li _et al._ 2009) [7].  \n",
    "- Serves as a drop-in for downstream **GATK RNA-seq** short-variant workflows, or as feedstock for fusion callers like **STAR-Fusion** and **Arriba** [6, 10].\n",
    "\n",
    "> **Why it matters:** Parabricks pipelines are built to match reference CPU tools while delivering dramatic speedups on GPUs—reducing time-to-answer and cloud costs without changing scientific outputs [8, 9].\n",
    "\n",
    "## How we got here (a brief lineage)\n",
    "\n",
    "1. **RNA-seq foundations (2008–2012).** First transcriptome-wide sequencing studies establish digital expression quantification and novel transcript discovery, displacing microarrays [1, 2].  \n",
    "2. **Splice-aware mappers (2009–2016).** TopHat enables de-novo junction finding; STAR and HISAT/HISAT2 push speed and memory efficiency, becoming defaults in many labs [3–5].  \n",
    "3. **Community best practices.** The Broad’s **GATK RNA-seq** recommendations standardize mapping (two-pass STAR), data cleanup, and short-variant calling—shaping the canonical FQ→BAM→VCF flow [6].  \n",
    "4. **Fusion detection maturation.** Chimeric-aware alignment enables accurate fusion callers; benchmarking highlights **STAR-Fusion** and **Arriba** among top performers for cancer transcriptomes [10].  \n",
    "5. **GPU era and Parabricks.** As datasets scale, Parabricks ports core steps (including STAR-based RNA-seq alignment) to GPUs, preserving CPU-tool parity while shrinking runtimes from hours to minutes [8, 9].\n",
    "\n",
    "## What you’ll do in this notebook\n",
    "\n",
    "- **Download and preprocess datasets** download sample files and preprocess them to run RNA-FQ2BAM.  \n",
    "- **Run RNA-FQ2BAM** on example FASTQs to obtain a sorted, duplicate-marked **BAM**.  \n",
    "- **Inspect alignment quality** and metadata recorded in BAM per **SAM/BAM** specifications [7].  \n",
    "- **Optionally branch**:  \n",
    "  - feed BAMs into GATK’s **RNA-seq short-variant** workflow, or  \n",
    "  - export chimeric evidence to fusion callers like **STAR-Fusion** or **Arriba** [6, 10].\n",
    "\n",
    "---\n",
    "\n",
    "## References & Resources (selected)\n",
    "\n",
    "1. Nagalakshmi U. _et al._ (2008) **The transcriptional landscape of the yeast genome defined by RNA-Seq**. *Science*.  \n",
    "2. Mortazavi A. _et al._ (2008) **Mapping and quantifying mammalian transcriptomes by RNA-Seq**. *Nat Methods*.  \n",
    "3. Trapnell C. _et al._ (2009) **TopHat**: discovering splice junctions with RNA-Seq. *Bioinformatics*.  \n",
    "4. Dobin A. _et al._ (2013) **STAR**: ultrafast universal RNA-seq aligner. *Bioinformatics*. GitHub: [alexdobin/STAR].  \n",
    "5. Kim D. _et al._ (2015) **HISAT**: fast spliced aligner with low memory requirements. *Nat Methods*.  \n",
    "6. **GATK RNA-seq best practices** (Broad Institute).  \n",
    "7. Li H. _et al._ (2009) **The Sequence Alignment/Map format and SAMtools**. *Bioinformatics*. Spec: [hts-specs].  \n",
    "8. **NVIDIA Parabricks** overview & pipelines; **RNA-FQ2BAM** docs.  \n",
    "9. Taylor-Weiner A. _et al._ (2019) **Scaling computational genomics with GPUs**. *Genome Biology*.  \n",
    "10. Fusion callers: **STAR-Fusion** (Haas _et al._), **Arriba** (Uhrig _et al._). GitHub: [STAR-Fusion], [Arriba].\n",
    "\n",
    "[alexdobin/STAR]: https://github.com/alexdobin/STAR  \n",
    "[hts-specs]: https://github.com/samtools/hts-specs  \n",
    "[STAR-Fusion]: https://github.com/STAR-Fusion/STAR-Fusion  \n",
    "[Arriba]: https://github.com/suhrig/arriba"
   ]
  },
  {
   "cell_type": "markdown",
   "id": "1c22b116",
   "metadata": {},
   "source": [
    "## Download and preprocess datasets"
   ]
  },
  {
   "cell_type": "markdown",
   "id": "cd83e2e1",
   "metadata": {},
   "source": [
    "### Download raw reads and reference files"
   ]
  },
  {
   "cell_type": "code",
   "execution_count": null,
   "id": "59a9b430",
   "metadata": {},
   "outputs": [],
   "source": [
    "# Create directories for files\n",
    "!mkdir ../datasets\n",
    "!mkdir ../datasets/rna_seq\n",
    "# Fasta\n",
    "fasta_url = \"https://ftp.ncbi.nlm.nih.gov/genomes/all/GCF/000/001/405/GCF_000001405.26_GRCh38/GCF_000001405.26_GRCh38_genomic.fna.gz\"\n",
    "fasta_gz = \"../datasets/rna_seq/GCF_000001405.26_GRCh38_genomic.fna.gz\"\n",
    "!wget -nc -P ../datasets/rna_seq/ $fasta_url\n",
    "!gzip -d fasta_gz\n",
    "# GTF File\n",
    "gtf_url = \"https://ftp.ncbi.nlm.nih.gov/genomes/all/GCF/000/001/405/GCF_000001405.26_GRCh38/GCF_000001405.26_GRCh38_genomic.gtf.gz\"\n",
    "gtf_gz = \"../datasets/rna_seq/GCF_000001405.26_GRCh38_genomic.gtf.gz\"\n",
    "!wget -nc -P ../datasets/rna_seq/ $gtf_url\n",
    "!gzip -d gtf_gz\n",
    "# FastQ files\n",
    "fastq1_url = (\n",
    "    \"ftp://ftp.sra.ebi.ac.uk/vol1/fastq/SRR223/074/SRR22331474/SRR22331474_1.fastq.gz\"\n",
    ")\n",
    "fastq2_url = (\n",
    "    \"ftp://ftp.sra.ebi.ac.uk/vol1/fastq/SRR223/074/SRR22331474/SRR22331474_2.fastq.gz\"\n",
    ")\n",
    "!wget -nc -P ../datasets/rna_seq/ $fastq1_url\n",
    "!wget -nc -P ../datasets/rna_seq/ $fastq2_url"
   ]
  },
  {
   "cell_type": "markdown",
   "id": "73e4b77d",
   "metadata": {},
   "source": [
    "### Preprocess fasta file"
   ]
  },
  {
   "cell_type": "code",
   "execution_count": null,
   "id": "2e2c1be4",
   "metadata": {},
   "outputs": [],
   "source": [
    "fasta_file = \"../datasets/rna_seq/GCF_000001405.26_GRCh38_genomic.fna\"\n",
    "gtf_file = \"../datasets/rna_seq/GCF_000001405.26_GRCh38_genomic.gtf\"\n",
    "genome_dir = \"../datasets/rna_seq/\"\n",
    "# Preprocess fasta file with STAR\n",
    "!/opt/STAR-2.7.1a/bin/Linux_x86_64/STAR \\\n",
    "    --runThreadN 32 \\\n",
    "    --runMode genomeGenerate \\\n",
    "    --genomeSAindexNbases 10 \\\n",
    "    --genomeDir $genome_dir \\\n",
    "    --genomeFastaFiles $fasta_file \\\n",
    "    --sjdbGTFfile $gtf_file \\\n",
    "    --sjdbOverhang 100"
   ]
  },
  {
   "cell_type": "markdown",
   "id": "32195eb2",
   "metadata": {},
   "source": [
    "### Preprocess fastq files"
   ]
  },
  {
   "cell_type": "code",
   "execution_count": null,
   "id": "25a0c9f3",
   "metadata": {},
   "outputs": [],
   "source": [
    "fastq1_file = \"../datasets/rna_seq/SRR22331474_1.fastq.gz\"\n",
    "fastq2_file = \"../datasets/rna_seq/SRR22331474_2.fastq.gz\"\n",
    "trimmed_fastq1_file = \"../datasets/rna_seq/trimmed_SRR22331474_1.fastq.gz\"\n",
    "trimmed_fastq2_file = \"../datasets/rna_seq/trimmed_SRR22331474_2.fastq.gz\"\n",
    "# Preprocess fasta file with fastp\n",
    "!/opt/fastp \\\n",
    "    -i $fastq1_file -I $fastq2_file \\\n",
    "    -o $trimmed_fastq1_file -O $trimmed_fastq2_file \\\n",
    "    -w 16"
   ]
  },
  {
   "cell_type": "markdown",
   "id": "77d1ff5a",
   "metadata": {},
   "source": [
    "## Run RNA-FQ2BAM "
   ]
  },
  {
   "cell_type": "code",
   "execution_count": null,
   "id": "a6d19cd4",
   "metadata": {},
   "outputs": [],
   "source": [
    "!pbrun rna_fq2bam \\\n",
    "    --in-fq $trimmed_fastq1_file $trimmed_fastq2_file \\\n",
    "    --read-files-command zcat \\\n",
    "    --genome-lib-dir ../datasets/rna_seq \\\n",
    "    --output-dir ../datasets/rna_seq_homo/ \\\n",
    "    --out-bam ../datasets/rna_seq_homo \\\n",
    "    --ref $fasta_file"
   ]
  }
 ],
 "metadata": {
  "kernelspec": {
   "display_name": "Python 3",
   "language": "python",
   "name": "python3"
  },
  "language_info": {
   "codemirror_mode": {
    "name": "ipython",
    "version": 3
   },
   "file_extension": ".py",
   "mimetype": "text/x-python",
   "name": "python",
   "nbconvert_exporter": "python",
   "pygments_lexer": "ipython3",
   "version": "3.10.12"
  }
 },
 "nbformat": 4,
 "nbformat_minor": 5
}
